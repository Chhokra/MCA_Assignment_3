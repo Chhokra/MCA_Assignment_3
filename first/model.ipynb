{
  "nbformat": 4,
  "nbformat_minor": 0,
  "metadata": {
    "colab": {
      "name": "model.ipynb",
      "provenance": [],
      "collapsed_sections": []
    },
    "kernelspec": {
      "name": "python3",
      "display_name": "Python 3"
    },
    "accelerator": "GPU"
  },
  "cells": [
    {
      "cell_type": "code",
      "metadata": {
        "id": "3qXsLAP_pwGW",
        "colab_type": "code",
        "outputId": "fc5af595-a28a-44aa-94d3-b242b6c783e7",
        "colab": {
          "base_uri": "https://localhost:8080/",
          "height": 34
        }
      },
      "source": [
        "import torch\n",
        "print(torch.__version__)"
      ],
      "execution_count": 26,
      "outputs": [
        {
          "output_type": "stream",
          "text": [
            "1.5.0+cu101\n"
          ],
          "name": "stdout"
        }
      ]
    },
    {
      "cell_type": "code",
      "metadata": {
        "id": "Wb2dHR1prxF_",
        "colab_type": "code",
        "outputId": "2fc77d62-90af-46b5-f0e2-e6933971aaed",
        "colab": {
          "base_uri": "https://localhost:8080/",
          "height": 51
        }
      },
      "source": [
        "%cd ./drive/My\\ Drive/"
      ],
      "execution_count": 27,
      "outputs": [
        {
          "output_type": "stream",
          "text": [
            "[Errno 2] No such file or directory: './drive/My Drive/'\n",
            "/content/drive/My Drive\n"
          ],
          "name": "stdout"
        }
      ]
    },
    {
      "cell_type": "code",
      "metadata": {
        "id": "16ocQf1BsIrg",
        "colab_type": "code",
        "outputId": "48c1a483-320f-4fcd-8e1b-9c82046563cf",
        "colab": {
          "base_uri": "https://localhost:8080/",
          "height": 34
        }
      },
      "source": [
        ""
      ],
      "execution_count": 0,
      "outputs": [
        {
          "output_type": "stream",
          "text": [
            "/content/drive/My Drive\n"
          ],
          "name": "stdout"
        }
      ]
    },
    {
      "cell_type": "code",
      "metadata": {
        "id": "67irKT-HHSgI",
        "colab_type": "code",
        "colab": {}
      },
      "source": [
        "file = open('corpus.txt')"
      ],
      "execution_count": 0,
      "outputs": []
    },
    {
      "cell_type": "code",
      "metadata": {
        "id": "B7QEvVkTqtgt",
        "colab_type": "code",
        "colab": {}
      },
      "source": [
        "lis = file.readlines()\n"
      ],
      "execution_count": 0,
      "outputs": []
    },
    {
      "cell_type": "code",
      "metadata": {
        "id": "szT7PM2HwEFn",
        "colab_type": "code",
        "outputId": "ef01abab-6358-4a36-ea58-d70d22b6ce0a",
        "colab": {
          "base_uri": "https://localhost:8080/",
          "height": 34
        }
      },
      "source": [
        "print(len(lis))"
      ],
      "execution_count": 30,
      "outputs": [
        {
          "output_type": "stream",
          "text": [
            "30719\n"
          ],
          "name": "stdout"
        }
      ]
    },
    {
      "cell_type": "code",
      "metadata": {
        "id": "DcSD2fBZ0FcG",
        "colab_type": "code",
        "outputId": "c3372520-7a29-4d5f-98dc-b4a77834bf97",
        "colab": {
          "base_uri": "https://localhost:8080/",
          "height": 377
        }
      },
      "source": [
        "for i in range(10):\n",
        "  print(lis[i])"
      ],
      "execution_count": 31,
      "outputs": [
        {
          "output_type": "stream",
          "text": [
            "cystic fibrosis affects 30000 children young adults us alone\n",
            "\n",
            "inhaling mists salt water reduce pus infection fills airways cystic fibrosis sufferers although side effects include nasty coughing fit harsh taste\n",
            "\n",
            "thats conclusion two studies published weeks issue new england journal medicine\n",
            "\n",
            "found inhaling mist salt content 7 9 improved lung function cases produced less absenteeism school work\n",
            "\n",
            "cystic fibrosis progressive frequently fatal genetic disease affects 30000 young adults children us alone marked thickening mucus makes harder clear lungs debris bacteria\n",
            "\n",
            "salt water solution really opens new avenue approaching patients cystic fibrosis treat says dr gail weinmann us national heart lung blood institute sponsored one studies\n",
            "\n",
            "mark elkins royal prince alfred hospital sydney australia colleagues authored one new published studies\n",
            "\n",
            "team found 83 volunteers regularly inhaled 7 mist salty water fewer breathing problems less absenteeism school work inhaled solution salt content 1\n",
            "\n",
            "adding salt water airway surfaces patients cystic fibrosis beneficial children adults conclude\n",
            "\n",
            "patients first inhaled chemical try open lung passages much possible\n",
            "\n"
          ],
          "name": "stdout"
        }
      ]
    },
    {
      "cell_type": "code",
      "metadata": {
        "id": "vANzdwTL2N1Y",
        "colab_type": "code",
        "colab": {}
      },
      "source": [
        "unique_words = []\n",
        "for i in range(len(lis)):\n",
        "  sentence = lis[i]\n",
        "  words = sentence.split()\n",
        "  for word in words:\n",
        "    if(word not in unique_words):\n",
        "      unique_words.append(word)\n",
        "\n",
        "# Get all unique words"
      ],
      "execution_count": 0,
      "outputs": []
    },
    {
      "cell_type": "code",
      "metadata": {
        "id": "pTKQ5Gb63C8g",
        "colab_type": "code",
        "outputId": "4f7c91aa-1867-420a-df2e-f7de10305c67",
        "colab": {
          "base_uri": "https://localhost:8080/",
          "height": 34
        }
      },
      "source": [
        "print(len(unique_words))"
      ],
      "execution_count": 33,
      "outputs": [
        {
          "output_type": "stream",
          "text": [
            "30477\n"
          ],
          "name": "stdout"
        }
      ]
    },
    {
      "cell_type": "code",
      "metadata": {
        "id": "rYq9JbY-4Xj4",
        "colab_type": "code",
        "colab": {}
      },
      "source": [
        "mapping = {}\n",
        "reverse_mapping = {}\n",
        "for index,word in enumerate(unique_words):\n",
        "  mapping[word] = index\n",
        "  reverse_mapping[index] = word\n",
        " \n",
        "# Make indexes for unique words"
      ],
      "execution_count": 0,
      "outputs": []
    },
    {
      "cell_type": "code",
      "metadata": {
        "id": "kSY2V6sv5dXR",
        "colab_type": "code",
        "colab": {}
      },
      "source": [
        "import pickle\n",
        "pickle.dump(mapping,open('Mapping.pkl','wb'))\n",
        "pickle.dump(reverse_mapping,open('Reverse_Mapping.pkl','wb'))"
      ],
      "execution_count": 0,
      "outputs": []
    },
    {
      "cell_type": "code",
      "metadata": {
        "id": "csNl4YJ0-WHo",
        "colab_type": "code",
        "outputId": "743f48e8-6cc3-4fa0-d419-6e78c509ef69",
        "colab": {
          "base_uri": "https://localhost:8080/",
          "height": 34
        }
      },
      "source": [
        "context_dict = {}\n",
        "outer_count = 0\n",
        "for sentence in lis:\n",
        "  words = sentence.split()\n",
        "  for i in range(len(words)):\n",
        "    word = words[i]\n",
        "    counter=0\n",
        "    if(word not in context_dict):\n",
        "      context_dict[word] = [] \n",
        "    if(i-1>=0):\n",
        "      context_dict[word].append(words[i-1])\n",
        "      counter+=1\n",
        "    if(i-2>=0):\n",
        "      context_dict[word].append(words[i-2])\n",
        "      counter+=1\n",
        "    if(i+1<len(words)):\n",
        "      context_dict[word].append(words[i+1]) \n",
        "      counter+=1\n",
        "    if(i+2<len(words)):\n",
        "      context_dict[word].append(words[i+2]) \n",
        "      counter+=1\n",
        "    if(counter!=4):\n",
        "      outer_count+=1\n",
        "print(outer_count)\n",
        "\n",
        "\n",
        "\n",
        "\n",
        "\n",
        "\n"
      ],
      "execution_count": 36,
      "outputs": [
        {
          "output_type": "stream",
          "text": [
            "120915\n"
          ],
          "name": "stdout"
        }
      ]
    },
    {
      "cell_type": "code",
      "metadata": {
        "id": "7mp1QXzfKYtt",
        "colab_type": "code",
        "colab": {}
      },
      "source": [
        "data_pairs = []\n",
        "import random\n",
        "for i in context_dict:\n",
        "  for j in context_dict[i]:\n",
        "    data_pairs.append([mapping[i],mapping[j],1])\n"
      ],
      "execution_count": 0,
      "outputs": []
    },
    {
      "cell_type": "code",
      "metadata": {
        "id": "_aUmpHF8WhUL",
        "colab_type": "code",
        "colab": {}
      },
      "source": [
        "frequency_dictionary = {}\n",
        "for i in data_pairs:\n",
        "  if(str(i) not in frequency_dictionary):\n",
        "    frequency_dictionary[str(i)] = 0\n",
        "  frequency_dictionary[str(i)]+=1\n"
      ],
      "execution_count": 0,
      "outputs": []
    },
    {
      "cell_type": "code",
      "metadata": {
        "id": "JZ7hCvC_IYWy",
        "colab_type": "code",
        "colab": {
          "base_uri": "https://localhost:8080/",
          "height": 34
        },
        "outputId": "aa085dbe-c9c9-4761-89ec-8a3644b4732f"
      },
      "source": [
        "removed_data_pairs = []\n",
        "for i in data_pairs:\n",
        "  if(frequency_dictionary[str(i)]!=1):\n",
        "    removed_data_pairs.append(i)\n",
        "print(len(removed_data_pairs))"
      ],
      "execution_count": 39,
      "outputs": [
        {
          "output_type": "stream",
          "text": [
            "520814\n"
          ],
          "name": "stdout"
        }
      ]
    },
    {
      "cell_type": "code",
      "metadata": {
        "id": "LT9MXTBfdxAY",
        "colab_type": "code",
        "outputId": "c8665305-2a24-495b-da6c-205a01026634",
        "colab": {
          "base_uri": "https://localhost:8080/",
          "height": 34
        }
      },
      "source": [
        "count = 0\n",
        "for i in context_dict:\n",
        "  for j in context_dict[i]:\n",
        "    count+=1\n",
        "print(count)"
      ],
      "execution_count": 40,
      "outputs": [
        {
          "output_type": "stream",
          "text": [
            "1379180\n"
          ],
          "name": "stdout"
        }
      ]
    },
    {
      "cell_type": "code",
      "metadata": {
        "id": "NaMvet6siCL6",
        "colab_type": "code",
        "colab": {}
      },
      "source": [
        "import torch.nn as nn\n",
        "import torch.nn.functional as F\n",
        "class Skip_Gram_W2V(nn.Module):\n",
        "  \n",
        "  def __init__(self,vocabulary_size,vector_size):\n",
        "    super(Skip_Gram_W2V,self).__init__()\n",
        "    self.hidden_embedding = nn.Embedding(vocabulary_size,vector_size) # This layer contains all the word vectors by the end of the training\n",
        "  \n",
        "  def forward(self,center_word_index,context_word_index):\n",
        "    center_word_tensor = torch.tensor(center_word_index,dtype=torch.long)\n",
        "    context_word_tensor = torch.tensor(context_word_index,dtype=torch.long)\n",
        "    center_hidden_embedding = self.hidden_embedding(center_word_tensor)\n",
        "    context_hidden_embedding = self.hidden_embedding(context_word_tensor) \n",
        "    prod_result = torch.matmul(center_hidden_embedding,torch.t(context_hidden_embedding)) \n",
        "    return F.logsigmoid(prod_result)\n",
        "\n",
        "\n",
        "  \n",
        "\n",
        "\n"
      ],
      "execution_count": 0,
      "outputs": []
    },
    {
      "cell_type": "code",
      "metadata": {
        "id": "ZsDqsV3u37tf",
        "colab_type": "code",
        "outputId": "3b1e49f9-fcb4-4492-f4f0-9a0220a5aab8",
        "colab": {
          "base_uri": "https://localhost:8080/",
          "height": 1000
        }
      },
      "source": [
        "import torch.optim as optim\n",
        "import random\n",
        "import torch\n",
        "number_of_epochs = 2\n",
        "criterion = nn.MSELoss()\n",
        "vocab_size = len(unique_words)\n",
        "model = Skip_Gram_W2V(vocab_size,60)\n",
        "model.load_state_dict(torch.load('5000000layer.pth'))\n",
        "optimizer = optim.SGD(list(model.parameters()),lr=0.001)\n",
        "\n",
        "for i in range(4):\n",
        "  total_criterion_loss = 0\n",
        "  count=0\n",
        "  for data_pair in removed_data_pairs:\n",
        "    center = data_pair[0]\n",
        "    context = data_pair[1] \n",
        "    ground_truth = data_pair[2]\n",
        "\n",
        "    ground_truth_tensor = torch.tensor([ground_truth],dtype=torch.long)\n",
        "    inter_result = model([center],[context])\n",
        "    inter_criterion_loss = criterion(ground_truth_tensor,inter_result[0])\n",
        "    total_criterion_loss+=inter_criterion_loss.data\n",
        "\n",
        "    optimizer.zero_grad()\n",
        "    inter_criterion_loss.backward()\n",
        "    optimizer.step()\n",
        "    count+=1\n",
        "    if(count%25000==0):\n",
        "      print(count)\n",
        "      torch.save(model.state_dict(),str(count)+ str(i)+'layer.pth')\n",
        "      print('saved')\n",
        "  print(total_criterion_loss)\n",
        "\n",
        "\n",
        "  \n",
        " \n",
        "  \n"
      ],
      "execution_count": 47,
      "outputs": [
        {
          "output_type": "stream",
          "text": [
            "25000\n",
            "saved\n",
            "50000\n",
            "saved\n",
            "75000\n",
            "saved\n",
            "100000\n",
            "saved\n",
            "125000\n",
            "saved\n",
            "150000\n",
            "saved\n",
            "175000\n",
            "saved\n",
            "200000\n",
            "saved\n",
            "225000\n",
            "saved\n",
            "250000\n",
            "saved\n",
            "275000\n",
            "saved\n",
            "300000\n",
            "saved\n",
            "325000\n",
            "saved\n",
            "350000\n",
            "saved\n",
            "375000\n",
            "saved\n",
            "400000\n",
            "saved\n",
            "425000\n",
            "saved\n",
            "450000\n",
            "saved\n",
            "475000\n",
            "saved\n",
            "500000\n",
            "saved\n",
            "tensor(1228426.6250)\n",
            "25000\n",
            "saved\n",
            "50000\n",
            "saved\n",
            "75000\n",
            "saved\n",
            "100000\n",
            "saved\n",
            "125000\n",
            "saved\n",
            "150000\n",
            "saved\n",
            "175000\n",
            "saved\n",
            "200000\n",
            "saved\n",
            "225000\n",
            "saved\n",
            "250000\n",
            "saved\n",
            "275000\n",
            "saved\n",
            "300000\n",
            "saved\n",
            "325000\n",
            "saved\n",
            "350000\n",
            "saved\n",
            "375000\n",
            "saved\n",
            "400000\n",
            "saved\n",
            "425000\n",
            "saved\n",
            "450000\n",
            "saved\n",
            "475000\n",
            "saved\n",
            "500000\n",
            "saved\n",
            "tensor(837908.5625)\n",
            "25000\n",
            "saved\n",
            "50000\n",
            "saved\n",
            "75000\n",
            "saved\n",
            "100000\n",
            "saved\n",
            "125000\n",
            "saved\n",
            "150000\n",
            "saved\n",
            "175000\n",
            "saved\n",
            "200000\n",
            "saved\n",
            "225000\n",
            "saved\n",
            "250000\n",
            "saved\n",
            "275000\n",
            "saved\n",
            "300000\n",
            "saved\n",
            "325000\n",
            "saved\n",
            "350000\n",
            "saved\n",
            "375000\n",
            "saved\n",
            "400000\n",
            "saved\n",
            "425000\n",
            "saved\n",
            "450000\n",
            "saved\n",
            "475000\n",
            "saved\n",
            "500000\n",
            "saved\n",
            "tensor(734124.1875)\n",
            "25000\n",
            "saved\n",
            "50000\n",
            "saved\n",
            "75000\n",
            "saved\n",
            "100000\n",
            "saved\n",
            "125000\n",
            "saved\n",
            "150000\n",
            "saved\n",
            "175000\n",
            "saved\n",
            "200000\n",
            "saved\n",
            "225000\n",
            "saved\n",
            "250000\n",
            "saved\n",
            "275000\n",
            "saved\n",
            "300000\n",
            "saved\n",
            "325000\n",
            "saved\n",
            "350000\n",
            "saved\n",
            "375000\n",
            "saved\n",
            "400000\n",
            "saved\n",
            "425000\n",
            "saved\n",
            "450000\n",
            "saved\n",
            "475000\n",
            "saved\n",
            "500000\n",
            "saved\n",
            "tensor(686237.3750)\n"
          ],
          "name": "stdout"
        }
      ]
    },
    {
      "cell_type": "code",
      "metadata": {
        "id": "zCWxeLbaTceF",
        "colab_type": "code",
        "colab": {}
      },
      "source": [
        ""
      ],
      "execution_count": 0,
      "outputs": []
    }
  ]
}